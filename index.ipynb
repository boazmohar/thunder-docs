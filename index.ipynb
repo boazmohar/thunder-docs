{
 "cells": [
  {
   "cell_type": "markdown",
   "metadata": {},
   "source": [
    "<div class=\"clearfix\" style=\"padding: 0px; padding-left: 0px;\">\n",
    "<a href=\"http://thunder-project.org\"><img src=\"http://thunder-project.org/images/title-orange.svg\" width=\"250px\"  style=\"display: inline-block; margin-left: 0px;\"></a>\n",
    "</div>\n",
    "\n",
    "> Thunder is a library for analyzing spatial and temporal data in Python. It is designed to run locally for small data or against a Spark cluster for large data, using an identical API. These notebooks are tutorials for using Thunder. All the tutorials use small, toy data sets.\n",
    "\n",
    "\n",
    "\n",
    ">For more information on Thunder, visit the <a class='call-link thunder' href='http://thunder-project.org'>project</a> page or come <a class='call-link thunder' href='http://gitter.im/thunder-project/thunder'>chat</a> with us.\n",
    "\n",
    "### `tutorials`\n",
    "\n",
    "### - [`basics`](tutorials/basics.ipynb)\n",
    "\n",
    "### - [`images`](tutorials/images.ipynb)\n",
    "\n",
    "### - [`series`](tutorials/series.ipynb)\n",
    "\n",
    "### - [`registration`](tutorials/registration.ipynb)\n",
    "\n",
    "<br>"
   ]
  }
 ],
 "metadata": {
  "kernelspec": {
   "display_name": "Python 2",
   "language": "python",
   "name": "python2"
  },
  "language_info": {
   "codemirror_mode": {
    "name": "ipython",
    "version": 2
   },
   "file_extension": ".py",
   "mimetype": "text/x-python",
   "name": "python",
   "nbconvert_exporter": "python",
   "pygments_lexer": "ipython2",
   "version": "2.7.11"
  }
 },
 "nbformat": 4,
 "nbformat_minor": 0
}
